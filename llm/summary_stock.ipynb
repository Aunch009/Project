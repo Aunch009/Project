{
 "cells": [
  {
   "cell_type": "code",
   "execution_count": 48,
   "metadata": {},
   "outputs": [],
   "source": [
    "import pandas as pd\n",
    "from bs4 import BeautifulSoup\n",
    "import requests\n",
    "import re"
   ]
  },
  {
   "cell_type": "markdown",
   "metadata": {},
   "source": [
    "## Scrape stock new"
   ]
  },
  {
   "cell_type": "code",
   "execution_count": 49,
   "metadata": {},
   "outputs": [],
   "source": [
    "def get_soup(url):\n",
    "    page = requests.get(url)\n",
    "    soup = BeautifulSoup(page.content, 'html.parser')\n",
    "    return soup"
   ]
  },
  {
   "cell_type": "code",
   "execution_count": 50,
   "metadata": {},
   "outputs": [],
   "source": [
    "hoon_stock=get_soup('https://www.hooninside.com/news-feed/316062/view/')"
   ]
  },
  {
   "cell_type": "code",
   "execution_count": 51,
   "metadata": {},
   "outputs": [],
   "source": [
    "ignore_word=['อีเมล์\\:','Copyrights','สามารถติดตามหน้าเพจของ หุ้นอินไซด์']\n",
    "ignore_word_pattern='|'.join(ignore_word)"
   ]
  },
  {
   "cell_type": "code",
   "execution_count": 52,
   "metadata": {},
   "outputs": [],
   "source": [
    "texts=[]\n",
    "for p in hoon_stock.find_all('p'):\n",
    "    # ข้อความของ element ที่มี tag p\n",
    "    context=p.text\n",
    "    if len( context)>50  and re.search(ignore_word_pattern,context)==None:\n",
    "        # print(p)\n",
    "        texts.append(context)"
   ]
  },
  {
   "cell_type": "markdown",
   "metadata": {},
   "source": [
    "# Summarizing using Openai API"
   ]
  },
  {
   "cell_type": "code",
   "execution_count": 53,
   "metadata": {},
   "outputs": [],
   "source": [
    "import openai\n",
    "import os\n",
    "\n",
    "from dotenv import load_dotenv, find_dotenv\n",
    "_ = load_dotenv(find_dotenv()) # read local .env file\n",
    "\n",
    "openai.api_key  = os.getenv('OPENAI_API_KEY')"
   ]
  },
  {
   "cell_type": "code",
   "execution_count": 54,
   "metadata": {},
   "outputs": [],
   "source": [
    "def get_completion_and_token_count(prompt, \n",
    "                                   model=\"gpt-3.5-turbo\", \n",
    "                                   temperature=0, \n",
    "                                   max_tokens=300):\n",
    "    messages = [{\"role\": \"user\", \"content\": prompt}]\n",
    "    response = openai.ChatCompletion.create(\n",
    "        model=model,\n",
    "        messages=messages,\n",
    "        temperature=temperature, \n",
    "        max_tokens=max_tokens,\n",
    "    )\n",
    "    content = response.choices[0].message[\"content\"]\n",
    "    \n",
    "    token_dict = {\n",
    "'prompt_tokens':response['usage']['prompt_tokens'],\n",
    "'completion_tokens':response['usage']['completion_tokens'],\n",
    "'total_tokens':response['usage']['total_tokens'],\n",
    "    }\n",
    "\n",
    "    return content, token_dict"
   ]
  },
  {
   "cell_type": "markdown",
   "metadata": {},
   "source": [
    "Need to analyze the amount of words that suitable for summary"
   ]
  },
  {
   "cell_type": "code",
   "execution_count": 55,
   "metadata": {},
   "outputs": [
    {
     "data": {
      "text/plain": [
       "176"
      ]
     },
     "execution_count": 55,
     "metadata": {},
     "output_type": "execute_result"
    }
   ],
   "source": [
    "import tiktoken\n",
    "encoding = tiktoken.get_encoding(\"cl100k_base\")\n",
    "len(encoding.encode('ในไตรมาส 3 ปี 2566 รายได้จากการดำเนินงานเพิ่มขึ้น 9.0% เป็น 43,344 ล้านบาท โดยรายได้ดอกเบี้ยสุทธิเพิ่มขึ้น 13.8% และรายได้ค่าธรรมเนียมลดลง 9.2% รายได้จากการลงทุนเพิ่มขึ้นเป็น 1,141 ล้านบาท'))"
   ]
  },
  {
   "cell_type": "markdown",
   "metadata": {},
   "source": [
    "## Summary new each paragraph"
   ]
  },
  {
   "cell_type": "code",
   "execution_count": 56,
   "metadata": {},
   "outputs": [
    {
     "name": "stdout",
     "output_type": "stream",
     "text": [
      "original: สำนักข่าวหุ้นอินไซด์(20 ตุลาคม 2566)----บริษัท เอสซีบี เอกซ์ จำกัด (มหาชน) มีกำไรสุทธิในไตรมาส 3 ของปี 2566 จากบริษัทในกลุ่มทั้งหมดจำนวน 9,663 ล้านบาท ลดลง 6.3% จากช่วงเดียวกันของปีก่อน โดยมีการตั้งสำรองพิเศษเพิ่มอีก จำนวน 1,500 ล้านบาท เพื่อรองรับความเสี่ยงในอนาคตจากสถานการณ์ภูมิรัฐศาสตร์ที่มีความไม่แน่นอนสูงขึ้น สำหรับเก้าเดือนแรกของปี บริษัทฯ มีกำไรสุทธิจำนวน 32,527 ล้านบาท เพิ่มขึ้น 7.0% ในส่วนของธนาคารไทยพาณิชย์ซึ่งเป็นบริษัทหลักในกลุ่ม มีกำไรสุทธิในไตรมาส 3 จำนวน 11,782 ล้านบาท ลดลง 6.3% และมีกำไรสุทธิสำหรับเก้าเดือนแรกของปีจำนวน 36,627 ล้านบาท เพิ่มขึ้น 21.2%\n"
     ]
    },
    {
     "name": "stdout",
     "output_type": "stream",
     "text": [
      "Summary: บริษัท เอสซีบี เอกซ์ จำกัด (มหาชน) มีกำไรสุทธิในไตรมาส 3 ของปี 2566 ลดลง 6.3% และมีการตั้งสำรองพิเศษเพิ่มอีก 1,500 ล้านบาท เพื่อรองรับความเสี่ยงในอนาคตจากสถานการณ์ภูมิรัฐศาสตร์ที่ไม่แน่นอนสูงขึ้น {'prompt_tokens': 592, 'completion_tokens': 187, 'total_tokens': 779}\n",
      "original: ในไตรมาส 3 ของปี 2566 รายได้จากการดำเนินงานมีจำนวน 43,344 ล้านบาทเพิ่มขึ้น 9.0% โดยแบ่งเป็นรายได้ดอกเบี้ยสุทธิจำนวน 31,536 ล้านบาท เพิ่มขึ้น 13.8% จากการเติบโตของสินเชื่อ และการขยายตัวของส่วนต่างดอกเบี้ยสุทธิ (NIM) รายได้ค่าธรรมเนียมและอื่น ๆ จำนวน 10,667 ล้านบาท ลดลง 9.2% และรายได้จากการลงทุนและการค้าเพิ่มขึ้นเกือบสามเท่าตัวจากปีที่แล้วมาเป็น 1,141 ล้านบาท\n",
      "Summary: ในไตรมาส 3 ปี 2566 รายได้จากการดำเนินงานเพิ่มขึ้น 9.0% เป็น 43,344 ล้านบาท โดยรายได้ดอกเบี้ยสุทธิเพิ่มขึ้น 13.8% และรายได้ค่าธรรมเนียมลดลง 9.2% รายได้จากการลงทุนเพิ่มขึ้นเป็น 1,141 ล้านบาท {'prompt_tokens': 375, 'completion_tokens': 176, 'total_tokens': 551}\n",
      "original: ค่าใช้จ่ายในการดำเนินงานมีจำนวน 18,490 ล้านบาท คิดเป็นอัตราส่วนค่าใช้จ่ายต่อรายได้ที่ 42.7% ซึ่งสะท้อนถึงการบริหารต้นทุนที่มีประสิทธิภาพอย่างต่อเนื่อง\n",
      "original: ภายใต้สถานการณ์ภูมิรัฐศาสตร์ที่มีความไม่แน่นอนเพิ่มขึ้น บริษัทฯ ได้ตั้งเงินสำรองพิเศษจำนวน 1,500 ล้านบาท ทำให้เงินสำรองที่ตั้งในไตรมาสนี้เป็นจำนวน 12,245 ล้านบาท คิดเป็นอัตราส่วนผลขาดทุนด้านเครดิตที่คาดว่าจะเกิดขึ้นต่อสินเชื่อ (Credit cost) ที่ 2.01% โดยอัตราส่วนค่าเผื่อหนี้สงสัยจะสูญต่อสินเชื่อด้อยคุณภาพยังคงอยู่ในระดับสูงที่ 167.2%\n",
      "Summary: บริษัทฯ ได้เพิ่มเงินสำรองพิเศษ 1,500 ล้านบาท เพื่อเตรียมความไม่แน่นอนในสถานการณ์ภูมิรัฐศาสตร์ ทำให้เงินสำรองในไตรมาสนี้เป็น 12,245 ล้านบาท อัตราส่วนผลขาดทุนด้านเครดิตคาดว่าจะเป็น 2.01% และอัตราส่วนค่าเผื่อหนี้สงสัยคงอยู่ในระดับสูงที่ 167.2% {'prompt_tokens': 357, 'completion_tokens': 223, 'total_tokens': 580}\n"
     ]
    }
   ],
   "source": [
    "paragraph_sum={}\n",
    "for i,new in enumerate(texts[:4]):\n",
    "    print('original:',new)\n",
    "    encoding = tiktoken.get_encoding(\"cl100k_base\")\n",
    "    text_token=len(encoding.encode(new))\n",
    "    #summary only paragraph more than 150 token\n",
    "    if text_token>150:\n",
    "        prompt = f\"\"\"\n",
    "        Your task is to generate a short summary in Thai of stock news. \n",
    "        Summarize in Thai the review below in at most 20 words.\n",
    "        Summarize: ```{new}```\n",
    "        \"\"\"\n",
    "\n",
    "        response, token_dict= get_completion_and_token_count(prompt)\n",
    "        print('Summary:',response, token_dict)\n",
    "\n",
    "        paragraph_sum[i]=response\n",
    "    else:\n",
    "        paragraph_sum[i]=new"
   ]
  },
  {
   "cell_type": "code",
   "execution_count": 57,
   "metadata": {},
   "outputs": [
    {
     "data": {
      "text/plain": [
       "{0: 'บริษัท เอสซีบี เอกซ์ จำกัด (มหาชน) มีกำไรสุทธิในไตรมาส 3 ของปี 2566 ลดลง 6.3% และมีการตั้งสำรองพิเศษเพิ่มอีก 1,500 ล้านบาท เพื่อรองรับความเสี่ยงในอนาคตจากสถานการณ์ภูมิรัฐศาสตร์ที่ไม่แน่นอนสูงขึ้น',\n",
       " 1: 'ในไตรมาส 3 ปี 2566 รายได้จากการดำเนินงานเพิ่มขึ้น 9.0% เป็น 43,344 ล้านบาท โดยรายได้ดอกเบี้ยสุทธิเพิ่มขึ้น 13.8% และรายได้ค่าธรรมเนียมลดลง 9.2% รายได้จากการลงทุนเพิ่มขึ้นเป็น 1,141 ล้านบาท',\n",
       " 2: 'ค่าใช้จ่ายในการดำเนินงานมีจำนวน 18,490 ล้านบาท คิดเป็นอัตราส่วนค่าใช้จ่ายต่อรายได้ที่ 42.7% ซึ่งสะท้อนถึงการบริหารต้นทุนที่มีประสิทธิภาพอย่างต่อเนื่อง',\n",
       " 3: 'บริษัทฯ ได้เพิ่มเงินสำรองพิเศษ 1,500 ล้านบาท เพื่อเตรียมความไม่แน่นอนในสถานการณ์ภูมิรัฐศาสตร์ ทำให้เงินสำรองในไตรมาสนี้เป็น 12,245 ล้านบาท อัตราส่วนผลขาดทุนด้านเครดิตคาดว่าจะเป็น 2.01% และอัตราส่วนค่าเผื่อหนี้สงสัยคงอยู่ในระดับสูงที่ 167.2%'}"
      ]
     },
     "execution_count": 57,
     "metadata": {},
     "output_type": "execute_result"
    }
   ],
   "source": [
    "paragraph_sum"
   ]
  },
  {
   "cell_type": "code",
   "execution_count": 58,
   "metadata": {},
   "outputs": [
    {
     "name": "stdout",
     "output_type": "stream",
     "text": [
      "บริษัทฯ ได้เพิ่มเงินสำรองพิเศษ 1,500 ล้านบาท เพื่อเตรียมความไม่แน่นอนในสถานการณ์ภูมิรัฐศาสตร์ ทำให้เงินสำรองในไตรมาสนี้เป็น 12,245 ล้านบาท อัตราส่วนผลขาดทุนด้านเครดิตคาดว่าจะเป็น 2.01% และอัตราส่วนค่าเผื่อหนี้สงสัยคงอยู่ในระดับสูงที่ 167.2%บริษัท เอสซีบี เอกซ์ จำกัด (มหาชน) มีกำไรสุทธิในไตรมาส 3 ของปี 2566 ลดลง 6.3% และมีการตั้งสำรองพิเศษเพิ่มอีก 1,500 ล้านบาท เพื่อรองรับความเสี่ยงในอนาคตจากสถานการณ์ภูมิรัฐศาสตร์ที่ไม่แน่นอนสูงขึ้นในไตรมาส 3 ปี 2566 รายได้จากการดำเนินงานเพิ่มขึ้น 9.0% เป็น 43,344 ล้านบาท โดยรายได้ดอกเบี้ยสุทธิเพิ่มขึ้น 13.8% และรายได้ค่าธรรมเนียมลดลง 9.2% รายได้จากการลงทุนเพิ่มขึ้นเป็น 1,141 ล้านบาท\n",
      "1185\n",
      "Summary: บริษัทได้เพิ่มเงินสำรองพิเศษ 1,500 ล้านบาทเพื่อเตรียมความไม่แน่นอนในสถานการณ์ภูมิรัฐศาสตร์ ทำให้เงินสำรองในไตรมาสนี้เป็น 12,245 ล้านบาท อัตราส่วนผลขาดทุนด้านเครดิตคาดว่าจะเป็น 2.01% และอัตราส่วนค่าเผื่อหนี้สงสัยคงอยู่ในระดับสูงที่ 167.2% บริษัทเอสซีบีเอกซ์จำกัด (มหาชน) มีการรับได้จากการตั้งสำรองพิเศษเพิ่มอีก 1,500 ล้า {'prompt_tokens': 1232, 'completion_tokens': 300, 'total_tokens': 1532}\n"
     ]
    }
   ],
   "source": [
    "summary_all=[]\n",
    "for i,p in paragraph_sum.items():\n",
    "    summary_list+=p\n",
    "    summary_new=' '.join(summary_list)\n",
    "    text_token=len(encoding.encode(summary_new))\n",
    "    # commulative the token of paragraph summary >1000 then summary\n",
    "    if text_token>1000:\n",
    "        print(summary_list)\n",
    "        print(text_token)\n",
    "        prompt = f\"\"\"\n",
    "        Your task is to generate a short summary in Thai of stock news. \n",
    "        Summarize in Thai the review below in 20 words.\n",
    "        Summarize: ```{summary_new}```\n",
    "        \"\"\"\n",
    "\n",
    "        response, token_dict= get_completion_and_token_count(prompt)\n",
    "        print('Summary:',response, token_dict)\n",
    "        summary_all.append(response)\n",
    "        summary_list=''"
   ]
  },
  {
   "cell_type": "code",
   "execution_count": 59,
   "metadata": {},
   "outputs": [
    {
     "name": "stdout",
     "output_type": "stream",
     "text": [
      "ค่าใช้จ่ายในการดำเนินงานมีจำนวน 18,490 ล้านบาท คิดเป็นอัตราส่วนค่าใช้จ่ายต่อรายได้ที่ 42.7% ซึ่งสะท้อนถึงการบริหารต้นทุนที่มีประสิทธิภาพอย่างต่อเนื่องบริษัทฯ ได้เพิ่มเงินสำรองพิเศษ 1,500 ล้านบาท เพื่อเตรียมความไม่แน่นอนในสถานการณ์ภูมิรัฐศาสตร์ ทำให้เงินสำรองในไตรมาสนี้เป็น 12,245 ล้านบาท อัตราส่วนผลขาดทุนด้านเครดิตคาดว่าจะเป็น 2.01% และอัตราส่วนค่าเผื่อหนี้สงสัยคงอยู่ในระดับสูงที่ 167.2%\n",
      "753\n",
      "Summary: ค่าใช้จ่ายในการดำเนินงานมีจำนวน 18,490 ล้านบาท คิดเป็นอัตราส่วนค่าใช้จ่ายต่อรายได้ที่ 42.7% ซึ่งสะท้อนถึงการบริหารรต้นทุนที่มีประสิทธิภาพอย่างต่อเนื่อง บริษัทได้เพิ่มเงินสำรองพิเศษ 1,500 ล้านบาทเพื่อเตรียมความไหลไม่แน่นอนในสถานการณ์ภูมิรัฐศาสตร์ ทำให้เงินสำรองในตรมาสนี้เป็น 12,245 ล้านบาท อัตราส่วนผลขาดทุนด้านเครดิตคาดว่าจะ {'prompt_tokens': 800, 'completion_tokens': 300, 'total_tokens': 1100}\n"
     ]
    }
   ],
   "source": [
    "print(summary_list)\n",
    "print(text_token)\n",
    "prompt = f\"\"\"\n",
    "        Your task is to generate a short summary in Thai of stock news. \n",
    "        Summarize in Thai the review below in 20 words.\n",
    "        Summarize: ```{summary_new}```\n",
    "        \"\"\"\n",
    "\n",
    "response, token_dict= get_completion_and_token_count(prompt)\n",
    "print('Summary:',response, token_dict)\n",
    "summary_all.append(response)"
   ]
  },
  {
   "cell_type": "markdown",
   "metadata": {},
   "source": [
    "## Result_summary_new"
   ]
  },
  {
   "cell_type": "code",
   "execution_count": 60,
   "metadata": {},
   "outputs": [
    {
     "name": "stdout",
     "output_type": "stream",
     "text": [
      "Summary: บริษัทเอสซีบีเอกซ์จำกัด (มหาชน) เพิ่มเงินสำรองพิเศษ 1,500 ล้านบาทเพื่อเตรียมความไม่แน่นอนในสถานการณ์ภูมิรัฐศาสตร์ ทำให้เงินสำรองในไตรมาสนี้เป็น 12,245 ล้านบาท อัตราส่วนผลขาดทุนด้านเครดิตคาดว่าจะเป็น 2.01% และอัตราส่วนค่าเผื่อหนี้สงสัยคงอยู่ในระดับสูงที่ 167.2% ค่าใช้จ่ายในการดำเนินงานมีจำนวน 18,490 ล้านบาท คิดเป็นอัตราส่วนค่า {'prompt_tokens': 646, 'completion_tokens': 300, 'total_tokens': 946}\n"
     ]
    }
   ],
   "source": [
    "result_summary=' '.join(summary_all)\n",
    "prompt = f\"\"\"\n",
    "        Your task is to generate a short summary in Thai of stock news. \n",
    "        Summarize in Thai the review below in 20 words.\n",
    "        Summarize: ```{result_summary}```\n",
    "        \"\"\"\n",
    "\n",
    "response, token_dict= get_completion_and_token_count(prompt)\n",
    "print('Summary:',response, token_dict)"
   ]
  }
 ],
 "metadata": {
  "kernelspec": {
   "display_name": "base",
   "language": "python",
   "name": "python3"
  },
  "language_info": {
   "codemirror_mode": {
    "name": "ipython",
    "version": 3
   },
   "file_extension": ".py",
   "mimetype": "text/x-python",
   "name": "python",
   "nbconvert_exporter": "python",
   "pygments_lexer": "ipython3",
   "version": "3.11.5"
  }
 },
 "nbformat": 4,
 "nbformat_minor": 2
}
