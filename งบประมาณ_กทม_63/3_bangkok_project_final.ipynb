{
 "cells": [
  {
   "cell_type": "markdown",
   "metadata": {},
   "source": [
    "# งบประมาณของกทมประจำปี 2563_keyword"
   ]
  },
  {
   "cell_type": "markdown",
   "metadata": {
    "colab_type": "text",
    "id": "swYolGOYeDGo"
   },
   "source": [
    "เมื่อได้ keyword จาก wordcould  แล้วใช้คำเหล่านี้เพื่อหาโครงการและงบประมาณโดยทำการสร้างตารางเพิ่ม"
   ]
  },
  {
   "cell_type": "code",
   "execution_count": 3,
   "metadata": {
    "colab": {},
    "colab_type": "code",
    "id": "Oe1dG6lfIK0C"
   },
   "outputs": [],
   "source": [
    "import pandas as pd\n",
    "import numpy as np\n",
    "import re"
   ]
  },
  {
   "cell_type": "code",
   "execution_count": 4,
   "metadata": {
    "colab": {
     "base_uri": "https://localhost:8080/",
     "height": 207
    },
    "colab_type": "code",
    "id": "u3sUqs4jLvZw",
    "outputId": "b233003e-d846-45e6-a8b0-aa98f6db3765"
   },
   "outputs": [
    {
     "name": "stdout",
     "output_type": "stream",
     "text": [
      "   Unnamed: 0  Index  ... รายจ่ายโครงการ       งบประมาณ\n",
      "0           0      1  ...      486536500  กรุงเทพมหานคร\n",
      "1           1      1  ...     2700000000  กรุงเทพมหานคร\n",
      "2           2      1  ...      650000000  กรุงเทพมหานคร\n",
      "3           3      1  ...      200000000  กรุงเทพมหานคร\n",
      "4           4      1  ...       20000000  กรุงเทพมหานคร\n",
      "\n",
      "[5 rows x 9 columns]\n",
      "Index(['Unnamed: 0', 'Index', 'หน่วยงาน', 'รายจ่ายหน่วยงาน', 'แผนงาน',\n",
      "       'ประเภทรายจ่าย', 'โครงการ', 'รายจ่ายโครงการ', 'งบประมาณ'],\n",
      "      dtype='object')\n"
     ]
    }
   ],
   "source": [
    "# ดาว์โหลดไฟล์ csv  จาก 1_bangkok_final\n",
    "df = pd.read_csv('/content/drive/My Drive/project/bangkok/df1.csv')\n",
    "print(df.head(5))\n",
    "print(df.columns)"
   ]
  },
  {
   "cell_type": "code",
   "execution_count": 9,
   "metadata": {
    "colab": {
     "base_uri": "https://localhost:8080/",
     "height": 207
    },
    "colab_type": "code",
    "id": "bnee2rFoVM8P",
    "outputId": "47d05351-8385-439b-94f5-a096d29037a8"
   },
   "outputs": [
    {
     "name": "stdout",
     "output_type": "stream",
     "text": [
      ".*(งานบริหาร).*\n",
      ".*(ก่อสร้าง).*\n",
      ".*(ระบบ).*\n",
      ".*(ควบคุม).*\n",
      ".*(ถนน).*\n",
      ".*(พัฒนา).*\n",
      ".*(คลอง).*\n",
      ".*(บำรุงรักษา).*\n",
      ".*(ระบายน้ำ).*\n",
      ".*(การคลัง).*\n",
      ".*(น้ำ).*\n"
     ]
    }
   ],
   "source": [
    "# ใช้ keyword ในการหาคำในตารางแล้วสร้างคอลัมภ์ใหม่\n",
    "keyword=['งานบริหาร','ก่อสร้าง','ระบบ','ควบคุม','ถนน','พัฒนา','คลอง','บำรุงรักษา','ระบายน้ำ','การคลัง','น้ำ']\n",
    "\n",
    "m=[]\n",
    "for i,word in enumerate(keyword):\n",
    "    match_pattern = \".*({}).*\".format(word)\n",
    "    print(match_pattern )\n",
    "    col=[]\n",
    "    for index, row in df.iterrows():\n",
    "        g=re.compile(match_pattern).search(row['โครงการ'])\n",
    "        # print(g)\n",
    "        if  g != None :\n",
    "          k=word\n",
    "        else:\n",
    "          k='โครงการอื่น'\n",
    "        col.append(k)\n",
    "    m.append(col)"
   ]
  },
  {
   "cell_type": "code",
   "execution_count": 10,
   "metadata": {
    "colab": {
     "base_uri": "https://localhost:8080/",
     "height": 35
    },
    "colab_type": "code",
    "id": "Cci4qguhoHWK",
    "outputId": "85943239-666e-43b9-9906-1e670c98f26a"
   },
   "outputs": [
    {
     "name": "stdout",
     "output_type": "stream",
     "text": [
      "11\n"
     ]
    }
   ],
   "source": [
    "print(len(m))"
   ]
  },
  {
   "cell_type": "code",
   "execution_count": 11,
   "metadata": {
    "colab": {
     "base_uri": "https://localhost:8080/",
     "height": 138
    },
    "colab_type": "code",
    "id": "MzBezdwmdbgP",
    "outputId": "674e52b7-656d-49b2-c43e-3653b3511b98"
   },
   "outputs": [
    {
     "data": {
      "text/html": [
       "<div>\n",
       "<style scoped>\n",
       "    .dataframe tbody tr th:only-of-type {\n",
       "        vertical-align: middle;\n",
       "    }\n",
       "\n",
       "    .dataframe tbody tr th {\n",
       "        vertical-align: top;\n",
       "    }\n",
       "\n",
       "    .dataframe thead th {\n",
       "        text-align: right;\n",
       "    }\n",
       "</style>\n",
       "<table border=\"1\" class=\"dataframe\">\n",
       "  <thead>\n",
       "    <tr style=\"text-align: right;\">\n",
       "      <th></th>\n",
       "      <th>งานบริหาร</th>\n",
       "      <th>ก่อสร้าง</th>\n",
       "      <th>ระบบ</th>\n",
       "      <th>ควบคุม</th>\n",
       "      <th>ถนน</th>\n",
       "      <th>พัฒนา</th>\n",
       "      <th>คลอง</th>\n",
       "      <th>บำรุงรักษา</th>\n",
       "      <th>ระบายน้ำ</th>\n",
       "      <th>การคลัง</th>\n",
       "      <th>น้ำ</th>\n",
       "    </tr>\n",
       "  </thead>\n",
       "  <tbody>\n",
       "    <tr>\n",
       "      <th>0</th>\n",
       "      <td>โครงการอื่น</td>\n",
       "      <td>โครงการอื่น</td>\n",
       "      <td>โครงการอื่น</td>\n",
       "      <td>โครงการอื่น</td>\n",
       "      <td>โครงการอื่น</td>\n",
       "      <td>โครงการอื่น</td>\n",
       "      <td>โครงการอื่น</td>\n",
       "      <td>โครงการอื่น</td>\n",
       "      <td>โครงการอื่น</td>\n",
       "      <td>โครงการอื่น</td>\n",
       "      <td>โครงการอื่น</td>\n",
       "    </tr>\n",
       "    <tr>\n",
       "      <th>1</th>\n",
       "      <td>โครงการอื่น</td>\n",
       "      <td>โครงการอื่น</td>\n",
       "      <td>โครงการอื่น</td>\n",
       "      <td>โครงการอื่น</td>\n",
       "      <td>โครงการอื่น</td>\n",
       "      <td>โครงการอื่น</td>\n",
       "      <td>โครงการอื่น</td>\n",
       "      <td>โครงการอื่น</td>\n",
       "      <td>โครงการอื่น</td>\n",
       "      <td>โครงการอื่น</td>\n",
       "      <td>โครงการอื่น</td>\n",
       "    </tr>\n",
       "    <tr>\n",
       "      <th>2</th>\n",
       "      <td>โครงการอื่น</td>\n",
       "      <td>โครงการอื่น</td>\n",
       "      <td>โครงการอื่น</td>\n",
       "      <td>โครงการอื่น</td>\n",
       "      <td>โครงการอื่น</td>\n",
       "      <td>โครงการอื่น</td>\n",
       "      <td>โครงการอื่น</td>\n",
       "      <td>โครงการอื่น</td>\n",
       "      <td>โครงการอื่น</td>\n",
       "      <td>โครงการอื่น</td>\n",
       "      <td>โครงการอื่น</td>\n",
       "    </tr>\n",
       "  </tbody>\n",
       "</table>\n",
       "</div>"
      ],
      "text/plain": [
       "     งานบริหาร     ก่อสร้าง         ระบบ  ...     ระบายน้ำ      การคลัง          น้ำ\n",
       "0  โครงการอื่น  โครงการอื่น  โครงการอื่น  ...  โครงการอื่น  โครงการอื่น  โครงการอื่น\n",
       "1  โครงการอื่น  โครงการอื่น  โครงการอื่น  ...  โครงการอื่น  โครงการอื่น  โครงการอื่น\n",
       "2  โครงการอื่น  โครงการอื่น  โครงการอื่น  ...  โครงการอื่น  โครงการอื่น  โครงการอื่น\n",
       "\n",
       "[3 rows x 11 columns]"
      ]
     },
     "execution_count": 11,
     "metadata": {
      "tags": []
     },
     "output_type": "execute_result"
    }
   ],
   "source": [
    "# สร้างตารางจาก keyword ที่ได้\n",
    "df1=pd.DataFrame(zip(m[0],m[1],m[2],m[3],m[4],m[5],m[6],m[7],m[8],m[9],m[10]),columns=['งานบริหาร','ก่อสร้าง','ระบบ','ควบคุม','ถนน','พัฒนา','คลอง','บำรุงรักษา','ระบายน้ำ','การคลัง','น้ำ'])\n",
    "df1.head(3)"
   ]
  },
  {
   "cell_type": "code",
   "execution_count": 13,
   "metadata": {
    "colab": {
     "base_uri": "https://localhost:8080/",
     "height": 331
    },
    "colab_type": "code",
    "id": "xQGEwipkQnQl",
    "outputId": "f50038ac-548a-457b-9a7f-083059679d3a"
   },
   "outputs": [
    {
     "data": {
      "text/html": [
       "<div>\n",
       "<style scoped>\n",
       "    .dataframe tbody tr th:only-of-type {\n",
       "        vertical-align: middle;\n",
       "    }\n",
       "\n",
       "    .dataframe tbody tr th {\n",
       "        vertical-align: top;\n",
       "    }\n",
       "\n",
       "    .dataframe thead th {\n",
       "        text-align: right;\n",
       "    }\n",
       "</style>\n",
       "<table border=\"1\" class=\"dataframe\">\n",
       "  <thead>\n",
       "    <tr style=\"text-align: right;\">\n",
       "      <th></th>\n",
       "      <th>Unnamed: 0</th>\n",
       "      <th>Index</th>\n",
       "      <th>หน่วยงาน</th>\n",
       "      <th>รายจ่ายหน่วยงาน</th>\n",
       "      <th>แผนงาน</th>\n",
       "      <th>ประเภทรายจ่าย</th>\n",
       "      <th>โครงการ</th>\n",
       "      <th>รายจ่ายโครงการ</th>\n",
       "      <th>งบประมาณ</th>\n",
       "      <th>งานบริหาร</th>\n",
       "      <th>ก่อสร้าง</th>\n",
       "      <th>ระบบ</th>\n",
       "      <th>ควบคุม</th>\n",
       "      <th>ถนน</th>\n",
       "      <th>พัฒนา</th>\n",
       "      <th>คลอง</th>\n",
       "      <th>บำรุงรักษา</th>\n",
       "      <th>ระบายน้ำ</th>\n",
       "      <th>การคลัง</th>\n",
       "      <th>น้ำ</th>\n",
       "    </tr>\n",
       "  </thead>\n",
       "  <tbody>\n",
       "    <tr>\n",
       "      <th>1009</th>\n",
       "      <td>1009</td>\n",
       "      <td>2</td>\n",
       "      <td>สำนักงานตลาดกรุงเทพมหานคร</td>\n",
       "      <td>167267000</td>\n",
       "      <td>งบกลาง</td>\n",
       "      <td>รายจ่ายพิเศษ</td>\n",
       "      <td>เงินสำรองจ่ายท่ัวไป</td>\n",
       "      <td>30000000</td>\n",
       "      <td>การพาณิชย์ของกรุงเทพมหานคร</td>\n",
       "      <td>โครงการอื่น</td>\n",
       "      <td>โครงการอื่น</td>\n",
       "      <td>โครงการอื่น</td>\n",
       "      <td>โครงการอื่น</td>\n",
       "      <td>โครงการอื่น</td>\n",
       "      <td>โครงการอื่น</td>\n",
       "      <td>โครงการอื่น</td>\n",
       "      <td>โครงการอื่น</td>\n",
       "      <td>โครงการอื่น</td>\n",
       "      <td>โครงการอื่น</td>\n",
       "      <td>โครงการอื่น</td>\n",
       "    </tr>\n",
       "    <tr>\n",
       "      <th>1010</th>\n",
       "      <td>1010</td>\n",
       "      <td>2</td>\n",
       "      <td>สำนักงานตลาดกรุงเทพมหานคร</td>\n",
       "      <td>167267000</td>\n",
       "      <td>แผนงานการพาณิชย์ของกรุงเทพมหานคร</td>\n",
       "      <td>รายจ่ายพิเศษ</td>\n",
       "      <td>งานบริหารการตลาด</td>\n",
       "      <td>3135000</td>\n",
       "      <td>การพาณิชย์ของกรุงเทพมหานคร</td>\n",
       "      <td>งานบริหาร</td>\n",
       "      <td>โครงการอื่น</td>\n",
       "      <td>โครงการอื่น</td>\n",
       "      <td>โครงการอื่น</td>\n",
       "      <td>โครงการอื่น</td>\n",
       "      <td>โครงการอื่น</td>\n",
       "      <td>โครงการอื่น</td>\n",
       "      <td>โครงการอื่น</td>\n",
       "      <td>โครงการอื่น</td>\n",
       "      <td>โครงการอื่น</td>\n",
       "      <td>โครงการอื่น</td>\n",
       "    </tr>\n",
       "    <tr>\n",
       "      <th>1011</th>\n",
       "      <td>1011</td>\n",
       "      <td>3</td>\n",
       "      <td>สำนักงานพัฒนาที่อยู่อาศัย</td>\n",
       "      <td>5411000</td>\n",
       "      <td>แผนงานการพาณิชย์ของกรุงเทพมหานคร</td>\n",
       "      <td>รายจ่ายประจำ</td>\n",
       "      <td>งานบริหารการพัฒนาที่อยู่อาศัย</td>\n",
       "      <td>5411000</td>\n",
       "      <td>การพาณิชย์ของกรุงเทพมหานคร</td>\n",
       "      <td>งานบริหาร</td>\n",
       "      <td>โครงการอื่น</td>\n",
       "      <td>โครงการอื่น</td>\n",
       "      <td>โครงการอื่น</td>\n",
       "      <td>โครงการอื่น</td>\n",
       "      <td>พัฒนา</td>\n",
       "      <td>โครงการอื่น</td>\n",
       "      <td>โครงการอื่น</td>\n",
       "      <td>โครงการอื่น</td>\n",
       "      <td>โครงการอื่น</td>\n",
       "      <td>โครงการอื่น</td>\n",
       "    </tr>\n",
       "  </tbody>\n",
       "</table>\n",
       "</div>"
      ],
      "text/plain": [
       "      Unnamed: 0  Index  ...      การคลัง          น้ำ\n",
       "1009        1009      2  ...  โครงการอื่น  โครงการอื่น\n",
       "1010        1010      2  ...  โครงการอื่น  โครงการอื่น\n",
       "1011        1011      3  ...  โครงการอื่น  โครงการอื่น\n",
       "\n",
       "[3 rows x 20 columns]"
      ]
     },
     "execution_count": 13,
     "metadata": {
      "tags": []
     },
     "output_type": "execute_result"
    }
   ],
   "source": [
    "# รวมตาราง\n",
    "df2=pd.concat([df,df1], axis=1)\n",
    "df2.tail(3)"
   ]
  },
  {
   "cell_type": "code",
   "execution_count": null,
   "metadata": {
    "colab": {},
    "colab_type": "code",
    "id": "2DjORAdofYc-"
   },
   "outputs": [],
   "source": [
    "df2.to_csv('project.csv')\n"
   ]
  }
 ],
 "metadata": {
  "colab": {
   "name": "3_bangkok_project_final.ipynb",
   "provenance": []
  },
  "kernelspec": {
   "display_name": "Python 3",
   "language": "python",
   "name": "python3"
  },
  "language_info": {
   "codemirror_mode": {
    "name": "ipython",
    "version": 3
   },
   "file_extension": ".py",
   "mimetype": "text/x-python",
   "name": "python",
   "nbconvert_exporter": "python",
   "pygments_lexer": "ipython3",
   "version": "3.7.1"
  }
 },
 "nbformat": 4,
 "nbformat_minor": 1
}
